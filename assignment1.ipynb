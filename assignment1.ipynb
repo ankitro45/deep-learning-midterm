{
 "cells": [
  {
   "cell_type": "code",
   "execution_count": 1,
   "id": "26888bc0",
   "metadata": {},
   "outputs": [],
   "source": [
    "import numpy as np\n",
    "import matplotlib.pyplot as plt\n",
    "from sklearn.datasets import make_moons\n",
    "from sklearn.model_selection import train_test_split\n"
   ]
  },
  {
   "cell_type": "code",
   "execution_count": 2,
   "id": "e50541b3",
   "metadata": {},
   "outputs": [],
   "source": [
    "# Generate dataset\n",
    "X, y = make_moons(n_samples=1000, noise=0.2, random_state=42)\n",
    "y = y.reshape(-1, 1)  # Make it a column vector\n"
   ]
  },
  {
   "cell_type": "code",
   "execution_count": 3,
   "id": "9e9381ff",
   "metadata": {},
   "outputs": [],
   "source": [
    "# Train-test split\n",
    "X_train, X_test, y_train, y_test = train_test_split(X, y, test_size=0.2)\n"
   ]
  },
  {
   "cell_type": "code",
   "execution_count": 4,
   "id": "4e104671",
   "metadata": {},
   "outputs": [],
   "source": [
    "# Activation functions\n",
    "def sigmoid(z):\n",
    "    return 1 / (1 + np.exp(-z))\n",
    "\n",
    "def sigmoid_derivative(z):\n",
    "    return sigmoid(z) * (1 - sigmoid(z))"
   ]
  },
  {
   "cell_type": "code",
   "execution_count": 5,
   "id": "e94b2b7b",
   "metadata": {},
   "outputs": [],
   "source": [
    "# Initialize weights and biases\n",
    "np.random.seed(1)\n",
    "input_size = 2\n",
    "hidden_size = 5\n",
    "output_size = 1\n",
    "lr = 0.01\n",
    "\n",
    "W1 = np.random.randn(input_size, hidden_size)\n",
    "b1 = np.zeros((1, hidden_size))\n",
    "W2 = np.random.randn(hidden_size, output_size)\n",
    "b2 = np.zeros((1, output_size))"
   ]
  },
  {
   "cell_type": "code",
   "execution_count": 11,
   "id": "6483d944",
   "metadata": {},
   "outputs": [
    {
     "name": "stdout",
     "output_type": "stream",
     "text": [
      "Epoch 0, Loss: 0.3974\n",
      "Epoch 100, Loss: 0.3932\n",
      "Epoch 200, Loss: 0.3894\n",
      "Epoch 300, Loss: 0.3858\n",
      "Epoch 400, Loss: 0.3825\n",
      "Epoch 500, Loss: 0.3793\n",
      "Epoch 600, Loss: 0.3763\n",
      "Epoch 700, Loss: 0.3735\n",
      "Epoch 800, Loss: 0.3708\n",
      "Epoch 900, Loss: 0.3682\n"
     ]
    }
   ],
   "source": [
    "\n",
    "# Training loop\n",
    "epochs = 1000\n",
    "for epoch in range(epochs):\n",
    "    # Forward pass\n",
    "    Z1 = np.dot(X_train, W1) + b1\n",
    "    A1 = sigmoid(Z1)\n",
    "    Z2 = np.dot(A1, W2) + b2\n",
    "    A2 = sigmoid(Z2)\n",
    "\n",
    "    # Compute loss\n",
    "    m = X_train.shape[0]\n",
    "    loss = -np.mean(y_train * np.log(A2) + (1 - y_train) * np.log(1 - A2))\n",
    "\n",
    "    # Backward pass\n",
    "    dZ2 = A2 - y_train\n",
    "    dW2 = np.dot(A1.T, dZ2) / m\n",
    "    db2 = np.sum(dZ2, axis=0, keepdims=True) / m\n",
    "\n",
    "    dA1 = np.dot(dZ2, W2.T)\n",
    "    dZ1 = dA1 * sigmoid_derivative(Z1)\n",
    "    dW1 = np.dot(X_train.T, dZ1) / m\n",
    "    db1 = np.sum(dZ1, axis=0, keepdims=True) / m\n",
    "\n",
    "    # Update weights\n",
    "    W1 -= lr * dW1\n",
    "    b1 -= lr * db1\n",
    "    W2 -= lr * dW2\n",
    "    b2 -= lr * db2\n",
    "\n",
    "    # Print loss\n",
    "    if epoch % 100 == 0:\n",
    "        print(f\"Epoch {epoch}, Loss: {loss:.4f}\")"
   ]
  },
  {
   "cell_type": "code",
   "execution_count": 12,
   "id": "29f7d45d",
   "metadata": {},
   "outputs": [
    {
     "name": "stdout",
     "output_type": "stream",
     "text": [
      "Test Accuracy: 85.00%\n"
     ]
    }
   ],
   "source": [
    "# Accuracy on test set\n",
    "Z1_test = np.dot(X_test, W1) + b1\n",
    "A1_test = sigmoid(Z1_test)\n",
    "Z2_test = np.dot(A1_test, W2) + b2\n",
    "A2_test = sigmoid(Z2_test)\n",
    "preds = (A2_test > 0.5).astype(int)\n",
    "acc = np.mean(preds == y_test)\n",
    "print(f\"Test Accuracy: {acc * 100:.2f}%\")"
   ]
  },
  {
   "cell_type": "code",
   "execution_count": null,
   "id": "20e13543",
   "metadata": {},
   "outputs": [],
   "source": []
  }
 ],
 "metadata": {
  "kernelspec": {
   "display_name": "Python 3",
   "language": "python",
   "name": "python3"
  },
  "language_info": {
   "codemirror_mode": {
    "name": "ipython",
    "version": 3
   },
   "file_extension": ".py",
   "mimetype": "text/x-python",
   "name": "python",
   "nbconvert_exporter": "python",
   "pygments_lexer": "ipython3",
   "version": "3.12.4"
  }
 },
 "nbformat": 4,
 "nbformat_minor": 5
}
